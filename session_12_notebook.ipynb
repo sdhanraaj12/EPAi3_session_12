{
  "nbformat": 4,
  "nbformat_minor": 5,
  "metadata": {
    "kernelspec": {
      "display_name": "Python 3",
      "language": "python",
      "name": "python3"
    },
    "language_info": {
      "codemirror_mode": {
        "name": "ipython",
        "version": 3
      },
      "file_extension": ".py",
      "mimetype": "text/x-python",
      "name": "python",
      "nbconvert_exporter": "python",
      "pygments_lexer": "ipython3",
      "version": "3.7.3"
    },
    "colab": {
      "name": "Untitled.ipynb",
      "provenance": []
    }
  },
  "cells": [
    {
      "cell_type": "code",
      "metadata": {
        "colab": {
          "base_uri": "https://localhost:8080/"
        },
        "id": "b8c67a76",
        "outputId": "cb9ed045-3d7d-4f9a-9cfe-f73aa871351d"
      },
      "source": [
        "pip install Faker"
      ],
      "id": "b8c67a76",
      "execution_count": 1,
      "outputs": [
        {
          "output_type": "stream",
          "text": [
            "Collecting Faker\n",
            "\u001b[?25l  Downloading https://files.pythonhosted.org/packages/e4/be/d03e305f1d879f541c23d586023ec11b124d6cc3d75a95159470754134d9/Faker-8.10.0-py3-none-any.whl (1.2MB)\n",
            "\u001b[K     |████████████████████████████████| 1.2MB 7.6MB/s \n",
            "\u001b[?25hRequirement already satisfied: python-dateutil>=2.4 in /usr/local/lib/python3.7/dist-packages (from Faker) (2.8.1)\n",
            "Requirement already satisfied: text-unidecode==1.3 in /usr/local/lib/python3.7/dist-packages (from Faker) (1.3)\n",
            "Requirement already satisfied: six>=1.5 in /usr/local/lib/python3.7/dist-packages (from python-dateutil>=2.4->Faker) (1.15.0)\n",
            "Installing collected packages: Faker\n",
            "Successfully installed Faker-8.10.0\n"
          ],
          "name": "stdout"
        }
      ]
    },
    {
      "cell_type": "code",
      "metadata": {
        "id": "47a38b38"
      },
      "source": [
        "import datetime\n",
        "import random\n",
        "from collections import namedtuple\n",
        "from datetime import date\n",
        "from functools import wraps\n",
        "from statistics import mode\n",
        "from time import perf_counter\n",
        "\n",
        "from faker import Faker\n",
        "from numpy import random"
      ],
      "id": "47a38b38",
      "execution_count": 2,
      "outputs": []
    },
    {
      "cell_type": "code",
      "metadata": {
        "colab": {
          "base_uri": "https://localhost:8080/"
        },
        "id": "612d0c14",
        "outputId": "36f1518b-8d07-44ac-8eb7-87be7a8f6583"
      },
      "source": [
        "# Using Faker create 1 fake profile\n",
        "fake = Faker()\n",
        "fake.profile()"
      ],
      "id": "612d0c14",
      "execution_count": 3,
      "outputs": [
        {
          "output_type": "execute_result",
          "data": {
            "text/plain": [
              "{'address': '50249 Tonya Fork Apt. 549\\nReeseborough, FL 57787',\n",
              " 'birthdate': datetime.date(1943, 5, 30),\n",
              " 'blood_group': 'B-',\n",
              " 'company': 'Hayes-Stone',\n",
              " 'current_location': (Decimal('32.741944'), Decimal('-99.261986')),\n",
              " 'job': 'Engineer, land',\n",
              " 'mail': 'jonathanhamilton@yahoo.com',\n",
              " 'name': 'Jessica Harris',\n",
              " 'residence': '210 Gabriel Mall Suite 797\\nSouth Anita, MS 06315',\n",
              " 'sex': 'F',\n",
              " 'ssn': '409-72-5024',\n",
              " 'username': 'johnjoyce',\n",
              " 'website': ['http://burns.info/']}"
            ]
          },
          "metadata": {
            "tags": []
          },
          "execution_count": 3
        }
      ]
    },
    {
      "cell_type": "code",
      "metadata": {
        "id": "3d170cd7"
      },
      "source": [
        "# To make a named tuple named Profile with the keys in fake profile as fields\n",
        "Profile = namedtuple('Profile', fake.profile().keys())"
      ],
      "id": "3d170cd7",
      "execution_count": 4,
      "outputs": []
    },
    {
      "cell_type": "code",
      "metadata": {
        "colab": {
          "base_uri": "https://localhost:8080/"
        },
        "id": "79e623cf",
        "outputId": "b193b85d-780b-4fbf-ff4d-aeecf9e83f91"
      },
      "source": [
        "#Displaying fields in named tuple - Profile\n",
        "Profile._fields"
      ],
      "id": "79e623cf",
      "execution_count": 5,
      "outputs": [
        {
          "output_type": "execute_result",
          "data": {
            "text/plain": [
              "('job',\n",
              " 'company',\n",
              " 'ssn',\n",
              " 'residence',\n",
              " 'current_location',\n",
              " 'blood_group',\n",
              " 'website',\n",
              " 'username',\n",
              " 'name',\n",
              " 'sex',\n",
              " 'address',\n",
              " 'mail',\n",
              " 'birthdate')"
            ]
          },
          "metadata": {
            "tags": []
          },
          "execution_count": 5
        }
      ]
    },
    {
      "cell_type": "code",
      "metadata": {
        "colab": {
          "base_uri": "https://localhost:8080/"
        },
        "id": "271ad4eb",
        "outputId": "dcabf711-7352-46eb-ac1b-1f324a93840d"
      },
      "source": [
        "#Example - Storing data in namedtuple\n",
        "pr_store = Profile(**fake.profile())\n",
        "pr_store"
      ],
      "id": "271ad4eb",
      "execution_count": 6,
      "outputs": [
        {
          "output_type": "execute_result",
          "data": {
            "text/plain": [
              "Profile(job='Librarian, public', company='Contreras PLC', ssn='556-68-3677', residence='Unit 8482 Box 3543\\nDPO AE 85001', current_location=(Decimal('-73.1955005'), Decimal('33.978675')), blood_group='B+', website=['http://long.info/', 'https://www.barber-thomas.com/', 'http://evans.com/'], username='davidlee', name='Justin Wilson', sex='M', address='2871 Malone Spring\\nEast Denisemouth, FL 76009', mail='grimesamanda@hotmail.com', birthdate=datetime.date(1961, 11, 22))"
            ]
          },
          "metadata": {
            "tags": []
          },
          "execution_count": 6
        }
      ]
    },
    {
      "cell_type": "code",
      "metadata": {
        "id": "865dcb98"
      },
      "source": [
        "# Decorator for the execution time for named tuples and dictionary\n",
        "def timed(fn):\n",
        "    \"\"\" Decorator for run time of a function.\"\"\"\n",
        "\n",
        "    @wraps(fn)\n",
        "    def inner(*args, **kwargs):\n",
        "        \"\"\" Inner function - calculate the time.\"\"\"\n",
        "        start = perf_counter()\n",
        "        result = fn(*args, **kwargs)\n",
        "        end = perf_counter()\n",
        "        time_elapsed = (end - start)\n",
        "        return time_elapsed, result\n",
        "\n",
        "    return inner\n"
      ],
      "id": "865dcb98",
      "execution_count": 7,
      "outputs": []
    },
    {
      "cell_type": "markdown",
      "metadata": {
        "id": "5991504b"
      },
      "source": [
        "### Q1 "
      ],
      "id": "5991504b"
    },
    {
      "cell_type": "code",
      "metadata": {
        "id": "1099433f"
      },
      "source": [
        "def init_profiles_using_namedtuple(no_profiles: int):\n",
        "    \"\"\"Creating fake profiles for n number of people given as parameter using namedTuples\"\"\"\n",
        "    profiles = []\n",
        "    Profile = namedtuple('Profile', fake.profile().keys())\n",
        "    for _ in range(no_profiles):\n",
        "        profiles.append(Profile(**fake.profile()))\n",
        "    return profiles"
      ],
      "id": "1099433f",
      "execution_count": 8,
      "outputs": []
    },
    {
      "cell_type": "code",
      "metadata": {
        "colab": {
          "base_uri": "https://localhost:8080/"
        },
        "id": "2d8c1828",
        "outputId": "1b70fa75-d536-4aee-f2bf-5a946048fbf8"
      },
      "source": [
        "#Testing by creating 5 fake profiles by profile Generation Function using Namedtuples\n",
        "init_profiles_using_namedtuple(5)"
      ],
      "id": "2d8c1828",
      "execution_count": 9,
      "outputs": [
        {
          "output_type": "execute_result",
          "data": {
            "text/plain": [
              "[Profile(job='Lawyer', company='Hernandez and Sons', ssn='417-53-6168', residence='2370 Michael Lodge Suite 292\\nPort Kennethview, VA 98485', current_location=(Decimal('62.0933895'), Decimal('24.125910')), blood_group='A-', website=['http://www.gallegos.com/', 'http://www.patel.com/', 'http://morgan.org/', 'https://leonard.net/'], username='rcarpenter', name='Pamela Barnes', sex='F', address='180 Contreras Rue Suite 279\\nNorth Timothy, SC 10810', mail='brenda98@yahoo.com', birthdate=datetime.date(1992, 3, 7)),\n",
              " Profile(job='Youth worker', company='Baker Inc', ssn='583-43-5092', residence='595 Mark Hills\\nRichardsonport, AK 16436', current_location=(Decimal('1.384890'), Decimal('115.650479')), blood_group='A-', website=['http://long.org/', 'https://gillespie-simmons.com/', 'https://rowland.info/', 'http://adams.org/'], username='mayjohn', name='Alexander Johnson', sex='M', address='93807 Jennifer Square Apt. 660\\nEast Cherylfurt, DE 69656', mail='alvaradotimothy@hotmail.com', birthdate=datetime.date(1936, 11, 15)),\n",
              " Profile(job='Restaurant manager, fast food', company='Taylor-Ferguson', ssn='530-92-3862', residence='764 Navarro Points Suite 528\\nLake Michelle, OR 50081', current_location=(Decimal('18.148027'), Decimal('28.234166')), blood_group='A-', website=['http://www.barker.net/', 'https://www.mosley-moreno.info/'], username='warnerdaniel', name='Stephanie Ruiz', sex='F', address='3211 Reynolds Forge Suite 135\\nAmyland, NE 14220', mail='wavila@hotmail.com', birthdate=datetime.date(1940, 4, 12)),\n",
              " Profile(job='Mechanical engineer', company='Stone, Wong and Benitez', ssn='290-74-5373', residence='PSC 5655, Box 6392\\nAPO AE 32223', current_location=(Decimal('-40.244640'), Decimal('-14.404784')), blood_group='A+', website=['https://johnson-walker.info/', 'http://ibarra.info/'], username='charlenegomez', name='Michael Wong', sex='M', address='USNS Jacobs\\nFPO AP 33435', mail='garciayvette@yahoo.com', birthdate=datetime.date(1956, 8, 27)),\n",
              " Profile(job='Acupuncturist', company='Porter, Tucker and Young', ssn='862-43-1436', residence='USS Lee\\nFPO AE 11374', current_location=(Decimal('-55.8007835'), Decimal('152.490614')), blood_group='B+', website=['http://harmon.biz/', 'https://snyder.com/', 'http://mcbride.com/'], username='johnlam', name='Anthony Perry', sex='M', address='Unit 3393 Box 0499\\nDPO AA 52642', mail='rbyrd@yahoo.com', birthdate=datetime.date(2000, 6, 7))]"
            ]
          },
          "metadata": {
            "tags": []
          },
          "execution_count": 9
        }
      ]
    },
    {
      "cell_type": "code",
      "metadata": {
        "id": "ad60e7e3"
      },
      "source": [
        "@timed\n",
        "def oldest_person_nt(all_profile_nt: namedtuple) -> float:\n",
        "    \"\"\"This function finds the oldest person & calculates the duration. Returns minimum birthdate and time. \"\"\"\n",
        "    \"\"\"Param: all_profile_nt: Named tuple containing all profiles\"\"\"\n",
        "    value = min(all_profile_nt, key=lambda v: v[-1])\n",
        "    date_today = datetime.date.today()\n",
        "    age = (date_today - value.birthdate).days\n",
        "    return int(age / 365)"
      ],
      "id": "ad60e7e3",
      "execution_count": 10,
      "outputs": []
    },
    {
      "cell_type": "code",
      "metadata": {
        "id": "87266b88"
      },
      "source": [
        "@timed\n",
        "def average_age_nt(all_profile_nt: namedtuple) -> tuple:\n",
        "    \"\"\"Function to finds the average age of the person and calculated duration to perform that operation. \\\n",
        "            Returns average age and time.\"\"\"\n",
        "    \"\"\"Param: all_profile_nt: Named tuple containing all profiles\"\"\"\n",
        "    today = date.today()\n",
        "    value = sum(map(lambda v: today.year - v[-1].year - ((today.month, today.day) < (\n",
        "        v[-1].month, v[-1].day)), all_profile_nt)) / len(all_profile_nt)\n",
        "    return value\n"
      ],
      "id": "87266b88",
      "execution_count": 11,
      "outputs": []
    },
    {
      "cell_type": "code",
      "metadata": {
        "id": "5619e913"
      },
      "source": [
        "@timed\n",
        "def average_coordinates_nt(all_profile_nt: namedtuple) -> tuple:\n",
        "    \"\"\"Function to finds average coordinates & calculates duration to perform that operation. \\\n",
        "    Returns average coordinates and time.\"\"\"\n",
        "    \"\"\"Param: all_profile_nt: Named tuple containing all profiles\"\"\"\n",
        "    x, y = sum(map(lambda t: t[0], map(lambda v: v[4], all_profile_nt))) / len(all_profile_nt), sum(\n",
        "        map(lambda t: t[1], map(lambda v: v[4], all_profile_nt))) / len(all_profile_nt)\n",
        "    return x, y"
      ],
      "id": "5619e913",
      "execution_count": 12,
      "outputs": []
    },
    {
      "cell_type": "code",
      "metadata": {
        "id": "9d8e73a5"
      },
      "source": [
        "@timed\n",
        "def max_blood_group_nt(all_profile_nt: namedtuple) -> tuple:\n",
        "    \"\"\"Function uses the mode function defined in statistics library to find the most occurred blood group from the list. \\\n",
        "    The list is generated using the lambda function and returned to the mode function as a parameters. \\\n",
        "    The code is then timed and the result and time is sent back.\"\"\"\n",
        "    \"\"\"Param:all_profile_nt: Named tuple containing all profiles\"\"\"\n",
        "    blood_group = mode(list(map(lambda v: v[5], all_profile_nt)))\n",
        "    return blood_group\n"
      ],
      "id": "9d8e73a5",
      "execution_count": 13,
      "outputs": []
    },
    {
      "cell_type": "code",
      "metadata": {
        "id": "f97a3fa9"
      },
      "source": [
        "def time_nt(fk_profile_nt: namedtuple, n: int) -> 'float':\n",
        "    ti = 0\n",
        "    for _ in range(n):\n",
        "        total_exec_time_nt = oldest_person_nt(fk_profile_nt)[0] + average_age_nt(fk_profile_nt)[\n",
        "            0] + average_coordinates_nt(fk_profile_nt)[0] + max_blood_group_nt(fk_profile_nt)[0]\n",
        "        ti += total_exec_time_nt\n",
        "    return ti / n"
      ],
      "id": "f97a3fa9",
      "execution_count": 14,
      "outputs": []
    },
    {
      "cell_type": "code",
      "metadata": {
        "colab": {
          "base_uri": "https://localhost:8080/"
        },
        "id": "d06ef34d",
        "outputId": "130b9256-3a04-419b-dc1a-a613414ed8f9"
      },
      "source": [
        "fk_Profile_nt = init_profiles_using_namedtuple(10000)\n",
        "len(fk_Profile_nt)"
      ],
      "id": "d06ef34d",
      "execution_count": 15,
      "outputs": [
        {
          "output_type": "execute_result",
          "data": {
            "text/plain": [
              "10000"
            ]
          },
          "metadata": {
            "tags": []
          },
          "execution_count": 15
        }
      ]
    },
    {
      "cell_type": "code",
      "metadata": {
        "colab": {
          "base_uri": "https://localhost:8080/"
        },
        "id": "b578510e",
        "outputId": "6a9350ee-dca6-4e1e-d2cc-01a0a642929c"
      },
      "source": [
        "oldest_person_nt(fk_Profile_nt)"
      ],
      "id": "b578510e",
      "execution_count": 16,
      "outputs": [
        {
          "output_type": "execute_result",
          "data": {
            "text/plain": [
              "(0.004109388999992802, 116)"
            ]
          },
          "metadata": {
            "tags": []
          },
          "execution_count": 16
        }
      ]
    },
    {
      "cell_type": "code",
      "metadata": {
        "colab": {
          "base_uri": "https://localhost:8080/"
        },
        "id": "ea6a4700",
        "outputId": "8befadb3-3011-46f4-bf0e-997fc31c6395"
      },
      "source": [
        "average_age_nt(fk_Profile_nt)"
      ],
      "id": "ea6a4700",
      "execution_count": 17,
      "outputs": [
        {
          "output_type": "execute_result",
          "data": {
            "text/plain": [
              "(0.012436347999994268, 57.2591)"
            ]
          },
          "metadata": {
            "tags": []
          },
          "execution_count": 17
        }
      ]
    },
    {
      "cell_type": "code",
      "metadata": {
        "colab": {
          "base_uri": "https://localhost:8080/"
        },
        "id": "6bcb5cc8",
        "outputId": "4f81bc40-b61e-41b6-fcc6-1ebeae139873"
      },
      "source": [
        "average_coordinates_nt(fk_Profile_nt)"
      ],
      "id": "6bcb5cc8",
      "execution_count": 18,
      "outputs": [
        {
          "output_type": "execute_result",
          "data": {
            "text/plain": [
              "(0.012095028000004504, (Decimal('0.69344521645'), Decimal('-0.800044699')))"
            ]
          },
          "metadata": {
            "tags": []
          },
          "execution_count": 18
        }
      ]
    },
    {
      "cell_type": "code",
      "metadata": {
        "colab": {
          "base_uri": "https://localhost:8080/"
        },
        "id": "579a43b1",
        "outputId": "ce73a337-432f-4b4c-9e38-e3a00a1d2b79"
      },
      "source": [
        "max_blood_group_nt(fk_Profile_nt)"
      ],
      "id": "579a43b1",
      "execution_count": 19,
      "outputs": [
        {
          "output_type": "execute_result",
          "data": {
            "text/plain": [
              "(0.005976205999999706, 'AB-')"
            ]
          },
          "metadata": {
            "tags": []
          },
          "execution_count": 19
        }
      ]
    },
    {
      "cell_type": "code",
      "metadata": {
        "colab": {
          "base_uri": "https://localhost:8080/"
        },
        "id": "3ece1395",
        "outputId": "7815582f-f04c-4daa-d87e-4957c2915131"
      },
      "source": [
        "time_taken_by_ntuple = 0\n",
        "N = 10000\n",
        "for _ in range(N):\n",
        "    total_exec_time_nt = oldest_person_nt(fk_Profile_nt)[0] + average_age_nt(fk_Profile_nt)[0] + average_coordinates_nt(fk_Profile_nt)[0]+ max_blood_group_nt(fk_Profile_nt)[0] \n",
        "    time_taken_by_ntuple+=total_exec_time_nt\n",
        "print(time_taken_by_ntuple/N)"
      ],
      "id": "3ece1395",
      "execution_count": 20,
      "outputs": [
        {
          "output_type": "stream",
          "text": [
            "0.01646678872740014\n"
          ],
          "name": "stdout"
        }
      ]
    },
    {
      "cell_type": "markdown",
      "metadata": {
        "id": "0169cb97"
      },
      "source": [
        "### Q2"
      ],
      "id": "0169cb97"
    },
    {
      "cell_type": "code",
      "metadata": {
        "id": "5b1bbb80"
      },
      "source": [
        "# Converting the Data generated above as list of Dictionary\n",
        "fk_Profile_dict = {'Profile'+str(_):t._asdict() for _, t in enumerate(fk_Profile_nt)}"
      ],
      "id": "5b1bbb80",
      "execution_count": 21,
      "outputs": []
    },
    {
      "cell_type": "code",
      "metadata": {
        "id": "5092ddbf"
      },
      "source": [
        "@timed\n",
        "def oldest_person_dc(all_profile_dict: dict) -> float:\n",
        "    \"\"\"Function finds the oldest person & calculates the duration to perform that operation. \\\n",
        "    Returns birthdate and time.\"\"\"\n",
        "    \"\"\"Param:all_profile_dc: dictionary containing all profiles\"\"\"\n",
        "    value = min(all_profile_dict.values(), key=lambda v: v['birthdate'])\n",
        "    date_today = datetime.date.today()\n",
        "    age = (date_today - value['birthdate']).days\n",
        "    return int(age / 365)"
      ],
      "id": "5092ddbf",
      "execution_count": 22,
      "outputs": []
    },
    {
      "cell_type": "code",
      "metadata": {
        "id": "424e5272"
      },
      "source": [
        "@timed\n",
        "def average_age_dc(all_profile_dict: dict) -> float:\n",
        "    \"\"\"Function finds the average age & calculates the duration to perform that operation. \\\n",
        "    Returns Age and time.\"\"\"\n",
        "    \"\"\"Param:all_profile_dc: Dictionary containing all profiles\"\"\"\n",
        "    today = date.today()\n",
        "    value = sum(map(lambda v: today.year - v['birthdate'].year - ((today.month, today.day) < (\n",
        "        v['birthdate'].month, v['birthdate'].day)), all_profile_dict.values())) / len(all_profile_dict)\n",
        "    return value"
      ],
      "id": "424e5272",
      "execution_count": 23,
      "outputs": []
    },
    {
      "cell_type": "code",
      "metadata": {
        "id": "5884344c"
      },
      "source": [
        "@timed\n",
        "def average_coordinates_dc(all_profile_dict: dict) -> tuple:\n",
        "    \"\"\"Function finds the average coordinates & calculates the duration to perform that operation. \\\n",
        "    Returns average coordinates time.\"\"\"\n",
        "    \"\"\"Param:all_profile_dc: dictionary containing all profiles\"\"\"\n",
        "    x, y = sum(map(lambda t: t[0], map(lambda v: v['current_location'], all_profile_dict.values()))) / len(\n",
        "        all_profile_dict.values(\n",
        "        )), sum(map(lambda t: t[1], map(lambda v: v['current_location'], all_profile_dict.values()))) / len(\n",
        "        all_profile_dict.values())\n",
        "    return x, y"
      ],
      "id": "5884344c",
      "execution_count": 24,
      "outputs": []
    },
    {
      "cell_type": "code",
      "metadata": {
        "id": "0ef0f6db"
      },
      "source": [
        "@timed\n",
        "def max_blood_group_dc(all_profile_dict: dict) -> tuple:\n",
        "    \"\"\"Function uses the mode function defined in statistics library to find the most occurred blood group from the list. \\\n",
        "    The list is generated using the lambda function and returned to the mode function as a parameters. \\\n",
        "    The code is then timed and the result and time is sent back.\"\"\"\n",
        "    \"\"\"Param:all_profile_dc: dictionary containing all profiles\"\"\"\n",
        "    value = mode(\n",
        "        list(map(lambda v: v['blood_group'], all_profile_dict.values())))\n",
        "    return value\n"
      ],
      "id": "0ef0f6db",
      "execution_count": 25,
      "outputs": []
    },
    {
      "cell_type": "code",
      "metadata": {
        "colab": {
          "base_uri": "https://localhost:8080/"
        },
        "id": "d148e1a4",
        "outputId": "0811be22-c33c-4141-f79d-57e4e58199f7"
      },
      "source": [
        "oldest_person_dc(fk_Profile_dict)"
      ],
      "id": "d148e1a4",
      "execution_count": 26,
      "outputs": [
        {
          "output_type": "execute_result",
          "data": {
            "text/plain": [
              "(0.006480673999988085, 116)"
            ]
          },
          "metadata": {
            "tags": []
          },
          "execution_count": 26
        }
      ]
    },
    {
      "cell_type": "code",
      "metadata": {
        "colab": {
          "base_uri": "https://localhost:8080/"
        },
        "id": "c6bf0bcc",
        "outputId": "30f3320e-452d-4070-8e45-135f1def27cd"
      },
      "source": [
        "average_age_dc(fk_Profile_dict)"
      ],
      "id": "c6bf0bcc",
      "execution_count": 27,
      "outputs": [
        {
          "output_type": "execute_result",
          "data": {
            "text/plain": [
              "(0.011896602000007306, 57.2591)"
            ]
          },
          "metadata": {
            "tags": []
          },
          "execution_count": 27
        }
      ]
    },
    {
      "cell_type": "code",
      "metadata": {
        "colab": {
          "base_uri": "https://localhost:8080/"
        },
        "id": "afea4583",
        "outputId": "597d37a7-9dda-4812-905b-7b99464174e5"
      },
      "source": [
        "average_coordinates_dc(fk_Profile_dict)"
      ],
      "id": "afea4583",
      "execution_count": 28,
      "outputs": [
        {
          "output_type": "execute_result",
          "data": {
            "text/plain": [
              "(0.013663264999991043, (Decimal('0.69344521645'), Decimal('-0.800044699')))"
            ]
          },
          "metadata": {
            "tags": []
          },
          "execution_count": 28
        }
      ]
    },
    {
      "cell_type": "code",
      "metadata": {
        "colab": {
          "base_uri": "https://localhost:8080/"
        },
        "id": "d6c7bfc2",
        "outputId": "8a1303ea-39e4-4628-fd58-d06c7139f18a"
      },
      "source": [
        "max_blood_group_dc(fk_Profile_dict)"
      ],
      "id": "d6c7bfc2",
      "execution_count": 29,
      "outputs": [
        {
          "output_type": "execute_result",
          "data": {
            "text/plain": [
              "(0.008484844000008707, 'AB-')"
            ]
          },
          "metadata": {
            "tags": []
          },
          "execution_count": 29
        }
      ]
    },
    {
      "cell_type": "code",
      "metadata": {
        "colab": {
          "base_uri": "https://localhost:8080/"
        },
        "id": "2465a2a1",
        "outputId": "5b898c67-fb58-41b5-f652-3f5e808c53fa"
      },
      "source": [
        "time_taken_by_dic = 0\n",
        "N  = 10000\n",
        "for i in range(N):\n",
        "    total_exec_time_dc = oldest_person_dc(fk_Profile_dict)[0] + average_age_dc(fk_Profile_dict)[0] + average_coordinates_dc(fk_Profile_dict)[0]+ max_blood_group_dc(fk_Profile_dict)[0] \n",
        "    time_taken_by_dic+=total_exec_time_dc\n",
        "print(time_taken_by_dic/N)"
      ],
      "id": "2465a2a1",
      "execution_count": 30,
      "outputs": [
        {
          "output_type": "stream",
          "text": [
            "0.020288016453600066\n"
          ],
          "name": "stdout"
        }
      ]
    },
    {
      "cell_type": "markdown",
      "metadata": {
        "id": "1cee1d95"
      },
      "source": [
        "### Prove that namedtuple is faster "
      ],
      "id": "1cee1d95"
    },
    {
      "cell_type": "code",
      "metadata": {
        "colab": {
          "base_uri": "https://localhost:8080/"
        },
        "id": "8c1ce45e",
        "outputId": "0570aa89-6500-40e3-ac1c-358e1ea2c5c9"
      },
      "source": [
        "# printing fastest among namedtuple and dicm\n",
        "\n",
        "def is_fast(time_taken_by_dic, time_taken_by_ntuple):\n",
        "      \n",
        "    if time_taken_by_dic <= time_taken_by_ntuple:\n",
        "        print ('Both have took equal? / dictionary took least? Not possible!!!')\n",
        "        return ('Hence not proven' )\n",
        "    else:\n",
        "        print ('NamedTuple are faster than dictionary')\n",
        "        return ('Hence proven' )\n",
        "      \n",
        "# Driver code\n",
        "print(is_fast(time_taken_by_dic, time_taken_by_ntuple))\n"
      ],
      "id": "8c1ce45e",
      "execution_count": 31,
      "outputs": [
        {
          "output_type": "stream",
          "text": [
            "NamedTuple are faster than dictionary\n",
            "Hence proven\n"
          ],
          "name": "stdout"
        }
      ]
    },
    {
      "cell_type": "markdown",
      "metadata": {
        "id": "68c88ab6"
      },
      "source": [
        "### Q3"
      ],
      "id": "68c88ab6"
    },
    {
      "cell_type": "code",
      "metadata": {
        "id": "0698dd86"
      },
      "source": [
        "# Returns a Symbol of the the Company\n",
        "def symbol(string: str) -> str:\n",
        "    \"\"\"Returns joined string if characters are upper case\"\"\"\n",
        "    length_ = len(string)\n",
        "    p1 = random.randint(1, length_ - 1, 2)\n",
        "    chars = []\n",
        "    for char in string:\n",
        "        chars.append(char)\n",
        "    chars[p1[0]] = chars[p1[0]].upper()\n",
        "    chars[p1[1]] = chars[p1[1]].upper()\n",
        "    return ''.join(x for x in chars if x.isupper()) + str(random.randint(9))"
      ],
      "id": "0698dd86",
      "execution_count": 32,
      "outputs": []
    },
    {
      "cell_type": "code",
      "metadata": {
        "id": "44b2b5c4"
      },
      "source": [
        "def stock_market():\n",
        "    \"\"\"\n",
        "    To create a fake stock data set for imaginary stock exchange for top 100 companies (name, symbol, open, high, close).\n",
        "    Tasks_ToDo: Assign a random weight to all the companies. Calculate and show what value stock market started at, what was the highest value during the day and where did it end.\n",
        "    \"\"\"\n",
        "    all_companies = []\n",
        "    Stocks = namedtuple(\"Stocks\", 'name symbol open high close company_weight')\n",
        "    MkValue_  = random.uniform(1000, 50000, 100)\n",
        "    wts_ = random.uniform(0,1,100)\n",
        "    wts_ = wts_/sum(wts_)\n",
        "    \n",
        "    for _ in range(100):\n",
        "        name = fake.company()\n",
        "        open_ = round(MkValue_[_], 2)*wts_[_]\n",
        "        close = round(open_ * random.uniform(0.7,1.15),2)\n",
        "        high = round(open_ * random.uniform(0.85,1.15),2)\n",
        "        if high < open_:\n",
        "            high = open_\n",
        "        if high < close:\n",
        "            high = close\n",
        "\n",
        "        all_companies.append(Stocks(name=name, symbol=symbol(name), open=open_, high=round(high, 2), close=round(close, 2), company_weight=round(wts_[_], 4)))\n",
        "\n",
        "    stock_index = round(sum(x.open * x.company_weight for x in all_companies), 4)\n",
        "    highest_for_day = round(sum(x.high * x.company_weight for x in all_companies), 2)\n",
        "    lowest_close_for_day = round(sum(x.close * x.company_weight for x in all_companies), 2)\n",
        "\n",
        "    print(f\"\\n>>>>>Top 100 listed companies of FSE(Fake Stock Exchange)<<<<<\")\n",
        "    [print(f\" {x} '\\n\") for x in sorted(all_companies, key=lambda x:x.symbol)]\n",
        "    print(f\"\\n>>>Main details on {date.today()}<<<\")\n",
        "    print(f\"\\nStart of the day: {stock_index}\")\n",
        "    print(f\"Highest for the day: {highest_for_day}\")\n",
        "    print(f\"Lowest close for the day: {lowest_close_for_day}\")"
      ],
      "id": "44b2b5c4",
      "execution_count": 33,
      "outputs": []
    },
    {
      "cell_type": "code",
      "metadata": {
        "colab": {
          "base_uri": "https://localhost:8080/"
        },
        "id": "cecdc819",
        "outputId": "54cceaa0-3bbb-40d0-945e-e7f12940b59b"
      },
      "source": [
        "stock_market()"
      ],
      "id": "cecdc819",
      "execution_count": 34,
      "outputs": [
        {
          "output_type": "stream",
          "text": [
            "\n",
            ">>>>>Top 100 listed companies of FSE(Fake Stock Exchange)<<<<<\n",
            " Stocks(name='Acevedo, Simpson and Mcintyre', symbol='ACSMT4', open=145.83788814154929, high=147.53, close=147.53, company_weight=0.0061) '\n",
            "\n",
            " Stocks(name='Allen Inc', symbol='AIN3', open=733.0253733064098, high=751.34, close=751.34, company_weight=0.0169) '\n",
            "\n",
            " Stocks(name='Barnes-Cunningham', symbol='BCUN6', open=582.4757032324027, high=668.76, close=534.49, company_weight=0.0132) '\n",
            "\n",
            " Stocks(name='Brown and Sons', symbol='BDS3', open=542.4777194313576, high=542.48, close=413.48, company_weight=0.0142) '\n",
            "\n",
            " Stocks(name='Beck, Lopez and Avery', symbol='BLNDA4', open=322.68610502618174, high=344.03, close=266.23, company_weight=0.0116) '\n",
            "\n",
            " Stocks(name='Buckley-Rocha', symbol='BLR3', open=429.79498538277574, high=439.64, close=393.22, company_weight=0.0091) '\n",
            "\n",
            " Stocks(name='Brock, Miller and Johnson', symbol='BMJ0', open=709.2231658528109, high=709.22, close=524.26, company_weight=0.0154) '\n",
            "\n",
            " Stocks(name='Brown Group', symbol='BRNG2', open=107.0736918670054, high=107.07, close=101.18, company_weight=0.013) '\n",
            "\n",
            " Stocks(name='Brown, Perez and Roman', symbol='BRPR6', open=117.08534974494728, high=119.78, close=97.59, company_weight=0.0066) '\n",
            "\n",
            " Stocks(name='Bates, Raymond and Smith', symbol='BRST0', open=296.6246120024476, high=296.62, close=278.14, company_weight=0.0104) '\n",
            "\n",
            " Stocks(name='Blackwell, Saunders and Moss', symbol='BSDM1', open=495.5866031432161, high=495.59, close=413.05, company_weight=0.0132) '\n",
            "\n",
            " Stocks(name='Bates LLC', symbol='BTLLC2', open=448.6976886030834, high=468.05, close=352.97, company_weight=0.0107) '\n",
            "\n",
            " Stocks(name='Chapman-Foster', symbol='CAFO1', open=34.65922657030435, high=34.66, close=34.39, company_weight=0.0127) '\n",
            "\n",
            " Stocks(name='Campbell LLC', symbol='CALLLC7', open=197.25214908465028, high=209.33, close=189.61, company_weight=0.0114) '\n",
            "\n",
            " Stocks(name='Carlson, Wells and Moore', symbol='CAWDM1', open=76.3521986880786, high=76.35, close=57.06, company_weight=0.0036) '\n",
            "\n",
            " Stocks(name='Cooley-Brown', symbol='CEBO8', open=59.3981301276225, high=59.4, close=53.05, company_weight=0.0117) '\n",
            "\n",
            " Stocks(name='Chung-Erickson', symbol='CECK0', open=285.7833191506022, high=291.72, close=291.72, company_weight=0.0173) '\n",
            "\n",
            " Stocks(name='Chavez, Gomez and Cordova', symbol='CGACD5', open=399.26902613366525, high=399.27, close=335.67, company_weight=0.0084) '\n",
            "\n",
            " Stocks(name='Calderon, Kelly and Jackson', symbol='CLDKJ5', open=431.4174166688714, high=431.42, close=396.04, company_weight=0.0105) '\n",
            "\n",
            " Stocks(name='Camacho, Nelson and Moore', symbol='CNLSM1', open=784.6602255522353, high=897.77, close=897.77, company_weight=0.0175) '\n",
            "\n",
            " Stocks(name='Chandler, Robinson and Hawkins', symbol='CRNDH6', open=258.41771122755654, high=292.89, close=255.5, company_weight=0.0079) '\n",
            "\n",
            " Stocks(name='Cantrell, Rice and Rodriguez', symbol='CRRRG4', open=322.9922652432301, high=322.99, close=321.13, company_weight=0.0081) '\n",
            "\n",
            " Stocks(name='Diaz-Flynn', symbol='DFY0', open=202.03813404874873, high=227.66, close=168.29, company_weight=0.0088) '\n",
            "\n",
            " Stocks(name='Edwards LLC', symbol='EDSLLC5', open=35.58474389528953, high=35.58, close=26.48, company_weight=0.016) '\n",
            "\n",
            " Stocks(name='Estrada Ltd', symbol='ESAL2', open=463.12497266848516, high=485.92, close=485.92, company_weight=0.0104) '\n",
            "\n",
            " Stocks(name='Francis, Bowen and Johnson', symbol='FBJO0', open=48.774080894580166, high=49.86, close=49.03, company_weight=0.0027) '\n",
            "\n",
            " Stocks(name='Fowler, Perez and Hansen', symbol='FPAH8', open=95.77718300726362, high=101.68, close=101.68, company_weight=0.0026) '\n",
            "\n",
            " Stocks(name='Frost Ltd', symbol='FSL0', open=74.59568172872065, high=84.27, close=84.27, company_weight=0.0047) '\n",
            "\n",
            " Stocks(name='Gonzalez, Ramirez and Pierce', symbol='GLRPR2', open=600.3155613734692, high=600.32, close=425.95, company_weight=0.0149) '\n",
            "\n",
            " Stocks(name='Green Inc', symbol='GNIN6', open=222.6833146999281, high=222.68, close=213.41, company_weight=0.0053) '\n",
            "\n",
            " Stocks(name='Gregory LLC', symbol='GOLLC5', open=16.708418324985416, high=17.84, close=15.55, company_weight=0.0007) '\n",
            "\n",
            " Stocks(name='Guerrero-Douglas', symbol='GRDG0', open=179.23414869873596, high=179.23, close=129.28, company_weight=0.0124) '\n",
            "\n",
            " Stocks(name='Holmes, Gutierrez and Ramos', symbol='HGAR5', open=350.5706131023653, high=355.75, close=316.99, company_weight=0.0132) '\n",
            "\n",
            " Stocks(name='Howell Group', symbol='HGO6', open=63.64372580514675, high=71.8, close=71.8, company_weight=0.0074) '\n",
            "\n",
            " Stocks(name='Hammond-Kelley', symbol='HKE0', open=114.41646622020724, high=114.42, close=96.64, company_weight=0.0056) '\n",
            "\n",
            " Stocks(name='Hill, Marquez and Ross', symbol='HMNR5', open=26.51220620765726, high=28.11, close=27.24, company_weight=0.0083) '\n",
            "\n",
            " Stocks(name='Hunt-Robinson', symbol='HRI2', open=321.3761333656824, high=321.38, close=309.4, company_weight=0.0125) '\n",
            "\n",
            " Stocks(name='Hernandez and Sons', symbol='HRSO7', open=121.21126722802214, high=135.83, close=85.06, company_weight=0.0062) '\n",
            "\n",
            " Stocks(name='Hughes and Sons', symbol='HUS7', open=325.6008114546229, high=325.6, close=289.11, company_weight=0.0141) '\n",
            "\n",
            " Stocks(name='Ingram, Wood and Cooper', symbol='IMWOC2', open=261.2439667870646, high=261.24, close=187.44, company_weight=0.0121) '\n",
            "\n",
            " Stocks(name='Johnson-Mcbride', symbol='JNOM6', open=48.22564344189864, high=48.23, close=39.41, company_weight=0.0025) '\n",
            "\n",
            " Stocks(name='Jennings-Holder', symbol='JNSH8', open=375.0995147993485, high=398.67, close=358.22, company_weight=0.0164) '\n",
            "\n",
            " Stocks(name='Johnson-Johnson', symbol='JOJ3', open=320.0908823035661, high=320.09, close=237.71, company_weight=0.0065) '\n",
            "\n",
            " Stocks(name='Johnson-Pittman', symbol='JONP0', open=554.509990148491, high=554.51, close=513.89, company_weight=0.0124) '\n",
            "\n",
            " Stocks(name='Jacobson, Rivera and Chen', symbol='JRAC5', open=429.3389424346279, high=449.93, close=371.36, company_weight=0.0164) '\n",
            "\n",
            " Stocks(name='Kaufman Group', symbol='KAGO5', open=50.76348662030244, high=55.09, close=53.44, company_weight=0.006) '\n",
            "\n",
            " Stocks(name='Kent-Alvarado', symbol='KAV5', open=468.66677934798497, high=493.15, close=493.15, company_weight=0.0173) '\n",
            "\n",
            " Stocks(name='Martinez Group', symbol='MEGU8', open=409.5378445017718, high=462.9, close=462.9, company_weight=0.0105) '\n",
            "\n",
            " Stocks(name='Martinez and Sons', symbol='MIAS7', open=241.95445958214128, high=244.73, close=222.03, company_weight=0.015) '\n",
            "\n",
            " Stocks(name='Miller, Reyes and Rodriguez', symbol='MIRRU2', open=839.4473154970888, high=839.45, close=687.28, company_weight=0.0175) '\n",
            "\n",
            " Stocks(name='Mills-Barrera', symbol='MLBR4', open=53.5211874174359, high=54.4, close=37.64, company_weight=0.0129) '\n",
            "\n",
            " Stocks(name='Mann-Maddox', symbol='MNMD1', open=101.89070177371666, high=101.89, close=78.56, company_weight=0.0116) '\n",
            "\n",
            " Stocks(name='Montgomery-Ward', symbol='MOOW0', open=206.34671521498186, high=230.3, close=162.45, company_weight=0.013) '\n",
            "\n",
            " Stocks(name='Moore-Smith', symbol='MOS5', open=126.99508611770803, high=137.09, close=132.82, company_weight=0.0097) '\n",
            "\n",
            " Stocks(name='Miller, Hill and Gutierrez', symbol='MRHG5', open=176.31734742077177, high=185.66, close=185.66, company_weight=0.0074) '\n",
            "\n",
            " Stocks(name='Morales Ltd', symbol='MRLL8', open=414.561479646103, high=414.56, close=411.39, company_weight=0.0103) '\n",
            "\n",
            " Stocks(name='Morrow PLC', symbol='MRWPLC4', open=277.69675392564136, high=305.11, close=305.11, company_weight=0.0128) '\n",
            "\n",
            " Stocks(name='Nelson, Edwards and Lewis', symbol='NEWL2', open=243.50587077829596, high=243.51, close=190.37, company_weight=0.0121) '\n",
            "\n",
            " Stocks(name='Nelson-Rodriguez', symbol='NNRD1', open=34.09780199267115, high=34.1, close=33.43, company_weight=0.0128) '\n",
            "\n",
            " Stocks(name='Nicholson-Ortiz', symbol='NOO3', open=281.1080515277918, high=297.05, close=209.42, company_weight=0.0064) '\n",
            "\n",
            " Stocks(name='Nichols, Foster and Buck', symbol='NSFB2', open=585.120233858162, high=607.29, close=607.29, company_weight=0.014) '\n",
            "\n",
            " Stocks(name='Park, Boyle and Rose', symbol='PBNR4', open=33.44344288268114, high=38.07, close=34.61, company_weight=0.0029) '\n",
            "\n",
            " Stocks(name='Prince-Logan', symbol='PILA4', open=17.493518920265167, high=17.91, close=12.88, company_weight=0.0008) '\n",
            "\n",
            " Stocks(name='Parker-Tran', symbol='PRT0', open=108.62398932916986, high=108.62, close=98.75, company_weight=0.0026) '\n",
            "\n",
            " Stocks(name='Pollard-Scott', symbol='PS2', open=396.3930803803306, high=439.4, close=439.4, company_weight=0.008) '\n",
            "\n",
            " Stocks(name='Ramos, Bishop and Nicholson', symbol='RBSNI2', open=51.43690136886191, high=52.75, close=39.56, company_weight=0.0052) '\n",
            "\n",
            " Stocks(name='Reyes Ltd', symbol='REL1', open=617.4918726164667, high=617.49, close=587.16, company_weight=0.0128) '\n",
            "\n",
            " Stocks(name='Reed Group', symbol='RGR5', open=28.1889227956195, high=31.84, close=25.47, company_weight=0.003) '\n",
            "\n",
            " Stocks(name='Ritter-Knight', symbol='RKH5', open=163.5737624035281, high=181.73, close=181.73, company_weight=0.0034) '\n",
            "\n",
            " Stocks(name='Ramos-Johnson', symbol='RMJH2', open=171.33531913540364, high=193.32, close=121.96, company_weight=0.0097) '\n",
            "\n",
            " Stocks(name='Reid, Mann and Moreno', symbol='RMMR4', open=285.3356925141374, high=321.53, close=321.53, company_weight=0.0099) '\n",
            "\n",
            " Stocks(name='Romero, Joseph and Peterson', symbol='ROJP5', open=87.50512389429161, high=88.46, close=88.46, company_weight=0.0178) '\n",
            "\n",
            " Stocks(name='Robertson LLC', symbol='ROLLC1', open=358.051888711985, high=358.05, close=264.41, company_weight=0.0165) '\n",
            "\n",
            " Stocks(name='Ramirez PLC', symbol='RPLC1', open=30.14460388803801, high=32.58, close=32.58, company_weight=0.0037) '\n",
            "\n",
            " Stocks(name='Rasmussen, Palmer and Sullivan', symbol='RPMSA2', open=261.6414603481509, high=261.64, close=254.27, company_weight=0.0053) '\n",
            "\n",
            " Stocks(name='Schwartz-Rice', symbol='SAZR0', open=161.3463866076844, high=175.48, close=175.48, company_weight=0.006) '\n",
            "\n",
            " Stocks(name='Spencer, Harvey and Jones', symbol='SCHJE4', open=106.28325842988521, high=106.28, close=81.24, company_weight=0.0172) '\n",
            "\n",
            " Stocks(name='Shea-Ingram', symbol='SIGA4', open=57.58905789760268, high=64.61, close=64.61, company_weight=0.003) '\n",
            "\n",
            " Stocks(name='Solis, Lewis and Lloyd', symbol='SLAL7', open=654.3319179719849, high=741.53, close=741.53, company_weight=0.0169) '\n",
            "\n",
            " Stocks(name='Smith, Miller and Skinner', symbol='SMLES4', open=768.7525326702021, high=871.55, close=845.84, company_weight=0.0166) '\n",
            "\n",
            " Stocks(name='Sandoval PLC', symbol='SOVPLC3', open=73.59710932107275, high=80.35, close=74.44, company_weight=0.009) '\n",
            "\n",
            " Stocks(name='Sanchez, Saunders and Johnson', symbol='SSSJ3', open=144.36008195796927, high=147.24, close=112.69, company_weight=0.0168) '\n",
            "\n",
            " Stocks(name='Thomas, Estrada and Pruitt', symbol='TEAP4', open=166.72457989549858, high=181.07, close=136.95, company_weight=0.0135) '\n",
            "\n",
            " Stocks(name='Townsend, Ferrell and Lopez', symbol='TNFRL8', open=770.2279416325724, high=786.41, close=786.41, company_weight=0.0165) '\n",
            "\n",
            " Stocks(name='Torres Inc', symbol='TORI5', open=111.40709516388466, high=121.21, close=110.87, company_weight=0.0073) '\n",
            "\n",
            " Stocks(name='Vasquez, Williams and Foster', symbol='VWIDF4', open=176.89205475509266, high=197.3, close=137.45, company_weight=0.0142) '\n",
            "\n",
            " Stocks(name='Wang and Sons', symbol='WAS8', open=132.82226387654697, high=132.82, close=101.38, company_weight=0.0071) '\n",
            "\n",
            " Stocks(name='Whitney, Brown and Baker', symbol='WBBK1', open=16.346771624154382, high=17.34, close=17.34, company_weight=0.0019) '\n",
            "\n",
            " Stocks(name='Weaver-Jimenez', symbol='WEJ8', open=77.68430770970372, high=77.68, close=68.24, company_weight=0.0035) '\n",
            "\n",
            " Stocks(name='Wiggins, Vasquez and Martinez', symbol='WGVSM2', open=57.70675507875147, high=57.71, close=44.23, company_weight=0.0023) '\n",
            "\n",
            " Stocks(name='White and Sons', symbol='WHDS0', open=229.7836531661789, high=229.78, close=208.98, company_weight=0.0117) '\n",
            "\n",
            " Stocks(name='Williams, Martin and Wilson', symbol='WIAMW1', open=466.75651390761175, high=466.76, close=436.75, company_weight=0.0105) '\n",
            "\n",
            " Stocks(name='Williams Ltd', symbol='WIL1', open=246.52533116513303, high=246.53, close=188.9, company_weight=0.0055) '\n",
            "\n",
            " Stocks(name='Watts, Jones and Tucker', symbol='WJTE2', open=316.671582644956, high=316.67, close=244.43, company_weight=0.012) '\n",
            "\n",
            " Stocks(name='Walker-Little', symbol='WLT8', open=31.3188103212709, high=35.04, close=29.4, company_weight=0.001) '\n",
            "\n",
            " Stocks(name='Wilson and Sons', symbol='WNSN7', open=128.7763077279346, high=128.78, close=110.37, company_weight=0.0185) '\n",
            "\n",
            " Stocks(name='Warren-Vaughan', symbol='WNVG1', open=221.04992615073243, high=225.12, close=225.12, company_weight=0.0093) '\n",
            "\n",
            " Stocks(name='Ward-Morton', symbol='WRMO6', open=46.81263689162336, high=47.86, close=37.8, company_weight=0.0057) '\n",
            "\n",
            " Stocks(name='Young Ltd', symbol='YOLT0', open=118.3865836253386, high=118.39, close=95.66, company_weight=0.0048) '\n",
            "\n",
            " Stocks(name='Zimmerman-Martin', symbol='ZMMM0', open=482.75900768886305, high=482.76, close=467.78, company_weight=0.0163) '\n",
            "\n",
            "\n",
            ">>>Main details on 2021-07-12<<<\n",
            "\n",
            "Start of the day: 320.3255\n",
            "Highest for the day: 333.93\n",
            "Lowest close for the day: 298.13\n"
          ],
          "name": "stdout"
        }
      ]
    },
    {
      "cell_type": "code",
      "metadata": {
        "id": "97289d5b"
      },
      "source": [
        ""
      ],
      "id": "97289d5b",
      "execution_count": 34,
      "outputs": []
    },
    {
      "cell_type": "code",
      "metadata": {
        "id": "9cb3e0ac"
      },
      "source": [
        ""
      ],
      "id": "9cb3e0ac",
      "execution_count": 34,
      "outputs": []
    }
  ]
}